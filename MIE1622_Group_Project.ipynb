{
  "nbformat": 4,
  "nbformat_minor": 0,
  "metadata": {
    "colab": {
      "provenance": []
    },
    "kernelspec": {
      "name": "python3",
      "display_name": "Python 3"
    },
    "language_info": {
      "name": "python"
    }
  },
  "cells": [
    {
      "cell_type": "code",
      "execution_count": 1,
      "metadata": {
        "id": "3N_6LiyXWmy0"
      },
      "outputs": [],
      "source": [
        "import numpy as np\n",
        "import datetime\n",
        "from  datetime import date\n",
        "\n",
        "def MC_futures_price(S0, rf, volatility, maturity_date, numSteps, numPaths):\n",
        "    \"\"\"\n",
        "    S0: initial spot exchange rate\n",
        "    rf: risk-free interest rate\n",
        "    volatility: volatility of the exchange rate\n",
        "    maturity_date: datetime object representing the maturity date of the futures contract\n",
        "    numSteps: number of time steps in the simulation\n",
        "    numPaths: number of random paths to simulate\n",
        "    \"\"\"\n",
        "    # Compute time to maturity in years\n",
        "    current_date = date.today()\n",
        "    T = (maturity_date - current_date).days / 365.0\n",
        "    # Compute standard deviation of the asset price returns over the time interval\n",
        "    sigma  = volatility*np.sqrt(T)\n",
        "\n",
        "    delta_t = T/numSteps\n",
        "    paths = np.zeros((numSteps+1, numPaths))\n",
        "    paths[0] = S0\n",
        "\n",
        "    for i in range(numPaths):\n",
        "        for j in range(numSteps):\n",
        "            # using Geometric Brownian Motion\n",
        "            paths[j+1,i] = paths[j,i] * np.exp((rf - 0.5 * sigma*2) * delta_t + sigma * np.sqrt(delta_t) * np.random.normal(0, 1))\n",
        "\n",
        "    # Calculate the payoff of the futures contract at expiration\n",
        "    futures_payoff_T = np.maximum(paths[numSteps] - S0, 0)\n",
        "\n",
        "    # Discount the payoff back to the present time using the risk-free interest rate\n",
        "    disc = np.exp(-rf * T)\n",
        "    futures_price = np.mean(futures_payoff_T) * disc\n",
        "\n",
        "    return futures_price\n",
        "\n",
        "# Parameters\n",
        "#S0 = \n",
        "#rf = \n",
        "#sigma = \n",
        "#T = \n",
        "#numSteps = \n",
        "#numPaths = "
      ]
    },
    {
      "cell_type": "code",
      "source": [
        "from scipy.stats import norm\n",
        "\n",
        "def Black_Scholes_future_price(S0, rf, volatility, maturity_date, K):\n",
        "    '''\n",
        "    S0: initial spot exchange rate\n",
        "    rf: risk-free interest rate\n",
        "    volatility: volatility of the exchange rate\n",
        "    maturity_date: datetime object representing the maturity date of the futures contract\n",
        "    K: strike price\n",
        "    '''\n",
        "    # Compute time to maturity in years\n",
        "    current_date = date.today()\n",
        "    T = (maturity_date - current_date).days / 365.0\n",
        "    # Compute standard deviation of the asset price returns over the time interval\n",
        "    sigma  = volatility*np.sqrt(T)\n",
        "    # Black Scholes formuula\n",
        "    d1 = 1/sigma * (np.log(S0/K) + (rf + volatility**2/2) * T)\n",
        "    d2 = d1 - sigma\n",
        "\n",
        "    # Probabilities\n",
        "    phi1 = norm.cdf(d1)\n",
        "    phi2 = norm.cdf(d2)\n",
        "    disc = np.exp(-rf * T)\n",
        "\n",
        "    # Future price\n",
        "    future_price = disc * (S0 * phi1 - K * phi2)\n",
        "    return future_price\n",
        "\n",
        "# Parameters\n",
        "#S0 = \n",
        "#rf = \n",
        "#sigma = \n",
        "#T = \n",
        "#K =\n"
      ],
      "metadata": {
        "id": "hGBDzEBviJ8H"
      },
      "execution_count": 2,
      "outputs": []
    },
    {
      "cell_type": "code",
      "source": [
        "# Example\n",
        "S0 = 1.5\n",
        "rf = 0.03\n",
        "volatility = 0.15\n",
        "K = 1.5\n",
        "maturity_date = datetime.date(2023, 9, 20)\n",
        "numSteps = 20\n",
        "numPaths = 100000\n",
        "print(\"The currency future's price using BLS model is:\", Black_Scholes_future_price(S0, rf, volatility, maturity_date, K))\n",
        "print(\"The currency future's price using MC model is:\", MC_futures_price(S0, rf, volatility, maturity_date, numSteps, numPaths))"
      ],
      "metadata": {
        "colab": {
          "base_uri": "https://localhost:8080/"
        },
        "id": "1JOkECLmrHdf",
        "outputId": "d3c39341-a519-46aa-f5d0-bac122507538"
      },
      "execution_count": 3,
      "outputs": [
        {
          "output_type": "stream",
          "name": "stdout",
          "text": [
            "The currency future's price using BLS model is: 0.06195617327814874\n",
            "The currency future's price using MC model is: 0.02283960800176725\n"
          ]
        }
      ]
    }
  ]
}